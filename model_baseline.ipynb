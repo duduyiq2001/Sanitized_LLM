{
 "cells": [
  {
   "cell_type": "code",
   "execution_count": null,
   "id": "e048d827",
   "metadata": {},
   "outputs": [
    {
     "name": "stdout",
     "output_type": "stream",
     "text": [
      "\u001b[?2004h(base) \u001b]0;deandu@deandu-Blade-15-Advanced-Model-Early-2020-RZ09-033: ~/llm_proj\u0007\u001b[01;32mdeandu@deandu-Blade-15-Advanced-Model-Early-2020-RZ09-033\u001b[00m:\u001b[01;34m~/llm_proj\u001b[00m$ "
     ]
    }
   ],
   "source": [
    "!/bin/bash\n",
    "\n"
   ]
  },
  {
   "cell_type": "code",
   "execution_count": null,
   "id": "2d187127",
   "metadata": {},
   "outputs": [],
   "source": [
    "!conda activate llm"
   ]
  },
  {
   "cell_type": "code",
   "execution_count": null,
   "id": "67f114dc",
   "metadata": {},
   "outputs": [],
   "source": [
    "import torch\n",
    "print(torch.cuda.is_available())  # Should return True if CUDA is available\n"
   ]
  },
  {
   "cell_type": "code",
   "execution_count": null,
   "id": "f5356fd1",
   "metadata": {},
   "outputs": [],
   "source": [
    "from transformers import pipeline\n",
    "\n",
    "generator = pipeline('text-generation', model='EleutherAI/gpt-neo-2.7B')\n",
    "\n",
    "# Test the generator\n",
    "output = generator(\"Once upon a time\", max_length=50)\n",
    "print(output)\n"
   ]
  },
  {
   "cell_type": "code",
   "execution_count": null,
   "id": "1395f2a4",
   "metadata": {},
   "outputs": [],
   "source": []
  }
 ],
 "metadata": {
  "kernelspec": {
   "display_name": "Python 3 (ipykernel)",
   "language": "python",
   "name": "python3"
  },
  "language_info": {
   "codemirror_mode": {
    "name": "ipython",
    "version": 3
   },
   "file_extension": ".py",
   "mimetype": "text/x-python",
   "name": "python",
   "nbconvert_exporter": "python",
   "pygments_lexer": "ipython3",
   "version": "3.10.12"
  }
 },
 "nbformat": 4,
 "nbformat_minor": 5
}
